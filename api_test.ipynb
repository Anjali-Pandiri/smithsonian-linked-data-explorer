{
 "cells": [
  {
   "cell_type": "code",
   "execution_count": 5,
   "id": "894f3b85-0a1e-4579-8be5-5abcdf255e92",
   "metadata": {},
   "outputs": [
    {
     "name": "stdout",
     "output_type": "stream",
     "text": [
      "Successfully connected to API\n",
      "Found 22331 results\n",
      "\n",
      "Sample item:\n",
      "Title: Handbook of space engineering, archaeology, and heritage / edited by Ann Garrison Darrin, Beth Laura O'Leary\n",
      "ID: ld1-1646149545906-1646150649009-0\n"
     ]
    }
   ],
   "source": [
    "\n",
    "import requests\n",
    "import json\n",
    "from config import API_KEY\n",
    "\n",
    "# Base URL for the Smithsonian Open Access API\n",
    "base_url = \"https://api.si.edu/openaccess/api/v1.0/search\"\n",
    "\n",
    "# Parameters for a simple query\n",
    "params = {\n",
    "    \"api_key\": API_KEY,\n",
    "    \"q\": \"space\", # Search term\n",
    "    \"rows\": 10\n",
    "}\n",
    "\n",
    "# Make the request\n",
    "response = requests.get(base_url, params=params)\n",
    "\n",
    "# Check if the request was successful\n",
    "if response.status_code == 200:\n",
    "    data = response.json()\n",
    "    print(f\"Successfully connected to API\")\n",
    "    print(f\"Found {data['response']['rowCount']} results\")\n",
    "    \n",
    "    # Display the first item's basic info\n",
    "    first_item = data['response']['rows'][0]\n",
    "    print(\"\\nSample item:\")\n",
    "    print(f\"Title: {first_item['title']}\")\n",
    "    print(f\"ID: {first_item['id']}\")\n",
    "else:\n",
    "    print(f\"Error: {response.status_code}\")\n",
    "    print(response.text)"
   ]
  },
  {
   "cell_type": "code",
   "execution_count": 9,
   "id": "ff2401ef-cbe7-4324-834b-7b97f2b686d4",
   "metadata": {},
   "outputs": [
    {
     "data": {
      "text/plain": [
       "'/Users/anjali/Projects/smithsonian-linked-data-explorer'"
      ]
     },
     "execution_count": 9,
     "metadata": {},
     "output_type": "execute_result"
    }
   ],
   "source": [
    "pwd\n"
   ]
  },
  {
   "cell_type": "code",
   "execution_count": null,
   "id": "38ffcbe7-8b2c-495a-ac1d-12dc25292308",
   "metadata": {},
   "outputs": [],
   "source": []
  }
 ],
 "metadata": {
  "kernelspec": {
   "display_name": "Python [conda env:base] *",
   "language": "python",
   "name": "conda-base-py"
  },
  "language_info": {
   "codemirror_mode": {
    "name": "ipython",
    "version": 3
   },
   "file_extension": ".py",
   "mimetype": "text/x-python",
   "name": "python",
   "nbconvert_exporter": "python",
   "pygments_lexer": "ipython3",
   "version": "3.12.7"
  }
 },
 "nbformat": 4,
 "nbformat_minor": 5
}
